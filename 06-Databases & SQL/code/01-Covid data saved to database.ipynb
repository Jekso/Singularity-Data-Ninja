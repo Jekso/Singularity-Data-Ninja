{
 "cells": [
  {
   "cell_type": "code",
   "execution_count": 1,
   "metadata": {},
   "outputs": [],
   "source": [
    "import requests"
   ]
  },
  {
   "cell_type": "code",
   "execution_count": 2,
   "metadata": {},
   "outputs": [],
   "source": [
    "response = requests.get('https://coronavirus.m.pipedream.net/')\n",
    "data = response.json()"
   ]
  },
  {
   "cell_type": "code",
   "execution_count": 3,
   "metadata": {},
   "outputs": [
    {
     "name": "stdout",
     "output_type": "stream",
     "text": [
      "Albania\n",
      "178188\n",
      "2829\n"
     ]
    }
   ],
   "source": [
    "print(data['rawData'][1]['Country_Region'])\n",
    "print(data['rawData'][1]['Confirmed'])\n",
    "print(data['rawData'][1]['Deaths'])"
   ]
  },
  {
   "cell_type": "code",
   "execution_count": 5,
   "metadata": {},
   "outputs": [],
   "source": [
    "import sqlite3\n",
    "\n",
    "conn = sqlite3.connect('covid.db')\n",
    "\n",
    "\n",
    "for country in data['rawData']:\n",
    "    country_name = country['Country_Region']\n",
    "    confirmed = country['Confirmed']\n",
    "    deaths = country['Deaths']\n",
    "    sql = 'INSERT INTO covid (country_name, deaths, confirmed) VALUES (?,?,?)'\n",
    "    covid_data = [country_name, deaths, confirmed]\n",
    "    cursor = conn.execute(sql, covid_data)\n",
    "    \n",
    "conn.commit()\n",
    "conn.close()\n"
   ]
  },
  {
   "cell_type": "code",
   "execution_count": 5,
   "metadata": {},
   "outputs": [],
   "source": [
    "import csv \n",
    "\n",
    "with open('covid.csv', 'w', newline='') as f:\n",
    "    writer = csv.DictWriter(f, fieldnames=['Country_Name', 'Deaths', 'Confirmed'])\n",
    "    writer.writeheader()\n",
    "    for country in data['rawData']:\n",
    "        country_name = country['Country_Region']\n",
    "        confirmed = country['Confirmed']\n",
    "        deaths = country['Deaths']\n",
    "        writer.writerow({'Country_Name': country_name, 'Deaths': deaths, 'Confirmed': confirmed})"
   ]
  },
  {
   "cell_type": "code",
   "execution_count": 6,
   "metadata": {},
   "outputs": [
    {
     "data": {
      "text/html": [
       "<div>\n",
       "<style scoped>\n",
       "    .dataframe tbody tr th:only-of-type {\n",
       "        vertical-align: middle;\n",
       "    }\n",
       "\n",
       "    .dataframe tbody tr th {\n",
       "        vertical-align: top;\n",
       "    }\n",
       "\n",
       "    .dataframe thead th {\n",
       "        text-align: right;\n",
       "    }\n",
       "</style>\n",
       "<table border=\"1\" class=\"dataframe\">\n",
       "  <thead>\n",
       "    <tr style=\"text-align: right;\">\n",
       "      <th></th>\n",
       "      <th>Country_Name</th>\n",
       "      <th>Deaths</th>\n",
       "      <th>Confirmed</th>\n",
       "    </tr>\n",
       "  </thead>\n",
       "  <tbody>\n",
       "    <tr>\n",
       "      <th>0</th>\n",
       "      <td>Afghanistan</td>\n",
       "      <td>7243</td>\n",
       "      <td>155764</td>\n",
       "    </tr>\n",
       "    <tr>\n",
       "      <th>1</th>\n",
       "      <td>Albania</td>\n",
       "      <td>2820</td>\n",
       "      <td>177971</td>\n",
       "    </tr>\n",
       "    <tr>\n",
       "      <th>2</th>\n",
       "      <td>Algeria</td>\n",
       "      <td>5872</td>\n",
       "      <td>205286</td>\n",
       "    </tr>\n",
       "    <tr>\n",
       "      <th>3</th>\n",
       "      <td>Andorra</td>\n",
       "      <td>130</td>\n",
       "      <td>15338</td>\n",
       "    </tr>\n",
       "    <tr>\n",
       "      <th>4</th>\n",
       "      <td>Angola</td>\n",
       "      <td>1664</td>\n",
       "      <td>62842</td>\n",
       "    </tr>\n",
       "    <tr>\n",
       "      <th>...</th>\n",
       "      <td>...</td>\n",
       "      <td>...</td>\n",
       "      <td>...</td>\n",
       "    </tr>\n",
       "    <tr>\n",
       "      <th>4000</th>\n",
       "      <td>Vietnam</td>\n",
       "      <td>21194</td>\n",
       "      <td>864053</td>\n",
       "    </tr>\n",
       "    <tr>\n",
       "      <th>4001</th>\n",
       "      <td>West Bank and Gaza</td>\n",
       "      <td>4556</td>\n",
       "      <td>447032</td>\n",
       "    </tr>\n",
       "    <tr>\n",
       "      <th>4002</th>\n",
       "      <td>Yemen</td>\n",
       "      <td>1804</td>\n",
       "      <td>9526</td>\n",
       "    </tr>\n",
       "    <tr>\n",
       "      <th>4003</th>\n",
       "      <td>Zambia</td>\n",
       "      <td>3658</td>\n",
       "      <td>209521</td>\n",
       "    </tr>\n",
       "    <tr>\n",
       "      <th>4004</th>\n",
       "      <td>Zimbabwe</td>\n",
       "      <td>4658</td>\n",
       "      <td>132368</td>\n",
       "    </tr>\n",
       "  </tbody>\n",
       "</table>\n",
       "<p>4005 rows × 3 columns</p>\n",
       "</div>"
      ],
      "text/plain": [
       "            Country_Name  Deaths  Confirmed\n",
       "0            Afghanistan    7243     155764\n",
       "1                Albania    2820     177971\n",
       "2                Algeria    5872     205286\n",
       "3                Andorra     130      15338\n",
       "4                 Angola    1664      62842\n",
       "...                  ...     ...        ...\n",
       "4000             Vietnam   21194     864053\n",
       "4001  West Bank and Gaza    4556     447032\n",
       "4002               Yemen    1804       9526\n",
       "4003              Zambia    3658     209521\n",
       "4004            Zimbabwe    4658     132368\n",
       "\n",
       "[4005 rows x 3 columns]"
      ]
     },
     "execution_count": 6,
     "metadata": {},
     "output_type": "execute_result"
    }
   ],
   "source": [
    "import pandas as pd\n",
    "\n",
    "df = pd.read_csv('covid.csv')\n",
    "df"
   ]
  },
  {
   "cell_type": "code",
   "execution_count": 7,
   "metadata": {},
   "outputs": [
    {
     "data": {
      "text/plain": [
       "1223.1912609238452"
      ]
     },
     "execution_count": 7,
     "metadata": {},
     "output_type": "execute_result"
    }
   ],
   "source": [
    "df['Deaths'].mean()"
   ]
  }
 ],
 "metadata": {
  "kernelspec": {
   "display_name": "Tensorflow GPU",
   "language": "python",
   "name": "tensorflow"
  },
  "language_info": {
   "codemirror_mode": {
    "name": "ipython",
    "version": 3
   },
   "file_extension": ".py",
   "mimetype": "text/x-python",
   "name": "python",
   "nbconvert_exporter": "python",
   "pygments_lexer": "ipython3",
   "version": "3.7.6"
  }
 },
 "nbformat": 4,
 "nbformat_minor": 4
}
