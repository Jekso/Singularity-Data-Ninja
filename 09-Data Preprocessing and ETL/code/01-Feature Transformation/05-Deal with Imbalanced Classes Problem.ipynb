{
 "cells": [
  {
   "cell_type": "markdown",
   "metadata": {},
   "source": [
    "# Deal with Imbalanced Classes Problem\n",
    "\n",
    "Imbalanced classes are a common problem in machine learning classification where there are an unbalanced ratio of observations in each class. Class imbalance can be found in many different areas including medical diagnosis, spam filtering, and fraud detection.\n",
    "\n",
    "In this guide, we'll look at 3 possible ways to handle an imbalanced class problem using credit card data. Our objective will be to correctly classify the minority class of fraudulent transactions.\n",
    "\n",
    "<img src='https://raw.githubusercontent.com/rafjaa/machine_learning_fecib/master/src/static/img/resampling.png'>\n",
    "\n",
    "## Table of contents\n",
    "1. Imbalanced classess detection\n",
    "2. Downsampling or Undersampling Majority Class \n",
    "3. Upsamling or Oversampling by generating Synthetic Samples with SMOTE"
   ]
  },
  {
   "cell_type": "code",
   "execution_count": 1,
   "metadata": {},
   "outputs": [],
   "source": [
    "import numpy as np\n",
    "import pandas as pd\n",
    "import matplotlib.pyplot as plt\n",
    "import seaborn as sns\n",
    "from sklearn.model_selection import train_test_split\n",
    "\n",
    "%matplotlib inline\n",
    "sns.set(rc={'figure.figsize': [10, 10]}, font_scale=1.3)"
   ]
  },
  {
   "cell_type": "code",
   "execution_count": 2,
   "metadata": {},
   "outputs": [
    {
     "data": {
      "text/html": [
       "<div>\n",
       "<style scoped>\n",
       "    .dataframe tbody tr th:only-of-type {\n",
       "        vertical-align: middle;\n",
       "    }\n",
       "\n",
       "    .dataframe tbody tr th {\n",
       "        vertical-align: top;\n",
       "    }\n",
       "\n",
       "    .dataframe thead th {\n",
       "        text-align: right;\n",
       "    }\n",
       "</style>\n",
       "<table border=\"1\" class=\"dataframe\">\n",
       "  <thead>\n",
       "    <tr style=\"text-align: right;\">\n",
       "      <th></th>\n",
       "      <th>Time</th>\n",
       "      <th>V1</th>\n",
       "      <th>V2</th>\n",
       "      <th>V3</th>\n",
       "      <th>V4</th>\n",
       "      <th>V5</th>\n",
       "      <th>V6</th>\n",
       "      <th>V7</th>\n",
       "      <th>V8</th>\n",
       "      <th>V9</th>\n",
       "      <th>...</th>\n",
       "      <th>V21</th>\n",
       "      <th>V22</th>\n",
       "      <th>V23</th>\n",
       "      <th>V24</th>\n",
       "      <th>V25</th>\n",
       "      <th>V26</th>\n",
       "      <th>V27</th>\n",
       "      <th>V28</th>\n",
       "      <th>Amount</th>\n",
       "      <th>Class</th>\n",
       "    </tr>\n",
       "  </thead>\n",
       "  <tbody>\n",
       "    <tr>\n",
       "      <th>0</th>\n",
       "      <td>0</td>\n",
       "      <td>-1.359807</td>\n",
       "      <td>-0.072781</td>\n",
       "      <td>2.536347</td>\n",
       "      <td>1.378155</td>\n",
       "      <td>-0.338321</td>\n",
       "      <td>0.462388</td>\n",
       "      <td>0.239599</td>\n",
       "      <td>0.098698</td>\n",
       "      <td>0.363787</td>\n",
       "      <td>...</td>\n",
       "      <td>-0.018307</td>\n",
       "      <td>0.277838</td>\n",
       "      <td>-0.110474</td>\n",
       "      <td>0.066928</td>\n",
       "      <td>0.128539</td>\n",
       "      <td>-0.189115</td>\n",
       "      <td>0.133558</td>\n",
       "      <td>-0.021053</td>\n",
       "      <td>149.62</td>\n",
       "      <td>0</td>\n",
       "    </tr>\n",
       "    <tr>\n",
       "      <th>1</th>\n",
       "      <td>0</td>\n",
       "      <td>1.191857</td>\n",
       "      <td>0.266151</td>\n",
       "      <td>0.166480</td>\n",
       "      <td>0.448154</td>\n",
       "      <td>0.060018</td>\n",
       "      <td>-0.082361</td>\n",
       "      <td>-0.078803</td>\n",
       "      <td>0.085102</td>\n",
       "      <td>-0.255425</td>\n",
       "      <td>...</td>\n",
       "      <td>-0.225775</td>\n",
       "      <td>-0.638672</td>\n",
       "      <td>0.101288</td>\n",
       "      <td>-0.339846</td>\n",
       "      <td>0.167170</td>\n",
       "      <td>0.125895</td>\n",
       "      <td>-0.008983</td>\n",
       "      <td>0.014724</td>\n",
       "      <td>2.69</td>\n",
       "      <td>0</td>\n",
       "    </tr>\n",
       "    <tr>\n",
       "      <th>2</th>\n",
       "      <td>1</td>\n",
       "      <td>-1.358354</td>\n",
       "      <td>-1.340163</td>\n",
       "      <td>1.773209</td>\n",
       "      <td>0.379780</td>\n",
       "      <td>-0.503198</td>\n",
       "      <td>1.800499</td>\n",
       "      <td>0.791461</td>\n",
       "      <td>0.247676</td>\n",
       "      <td>-1.514654</td>\n",
       "      <td>...</td>\n",
       "      <td>0.247998</td>\n",
       "      <td>0.771679</td>\n",
       "      <td>0.909412</td>\n",
       "      <td>-0.689281</td>\n",
       "      <td>-0.327642</td>\n",
       "      <td>-0.139097</td>\n",
       "      <td>-0.055353</td>\n",
       "      <td>-0.059752</td>\n",
       "      <td>378.66</td>\n",
       "      <td>0</td>\n",
       "    </tr>\n",
       "    <tr>\n",
       "      <th>3</th>\n",
       "      <td>1</td>\n",
       "      <td>-0.966272</td>\n",
       "      <td>-0.185226</td>\n",
       "      <td>1.792993</td>\n",
       "      <td>-0.863291</td>\n",
       "      <td>-0.010309</td>\n",
       "      <td>1.247203</td>\n",
       "      <td>0.237609</td>\n",
       "      <td>0.377436</td>\n",
       "      <td>-1.387024</td>\n",
       "      <td>...</td>\n",
       "      <td>-0.108300</td>\n",
       "      <td>0.005274</td>\n",
       "      <td>-0.190321</td>\n",
       "      <td>-1.175575</td>\n",
       "      <td>0.647376</td>\n",
       "      <td>-0.221929</td>\n",
       "      <td>0.062723</td>\n",
       "      <td>0.061458</td>\n",
       "      <td>123.50</td>\n",
       "      <td>0</td>\n",
       "    </tr>\n",
       "    <tr>\n",
       "      <th>4</th>\n",
       "      <td>2</td>\n",
       "      <td>-1.158233</td>\n",
       "      <td>0.877737</td>\n",
       "      <td>1.548718</td>\n",
       "      <td>0.403034</td>\n",
       "      <td>-0.407193</td>\n",
       "      <td>0.095921</td>\n",
       "      <td>0.592941</td>\n",
       "      <td>-0.270533</td>\n",
       "      <td>0.817739</td>\n",
       "      <td>...</td>\n",
       "      <td>-0.009431</td>\n",
       "      <td>0.798278</td>\n",
       "      <td>-0.137458</td>\n",
       "      <td>0.141267</td>\n",
       "      <td>-0.206010</td>\n",
       "      <td>0.502292</td>\n",
       "      <td>0.219422</td>\n",
       "      <td>0.215153</td>\n",
       "      <td>69.99</td>\n",
       "      <td>0</td>\n",
       "    </tr>\n",
       "    <tr>\n",
       "      <th>...</th>\n",
       "      <td>...</td>\n",
       "      <td>...</td>\n",
       "      <td>...</td>\n",
       "      <td>...</td>\n",
       "      <td>...</td>\n",
       "      <td>...</td>\n",
       "      <td>...</td>\n",
       "      <td>...</td>\n",
       "      <td>...</td>\n",
       "      <td>...</td>\n",
       "      <td>...</td>\n",
       "      <td>...</td>\n",
       "      <td>...</td>\n",
       "      <td>...</td>\n",
       "      <td>...</td>\n",
       "      <td>...</td>\n",
       "      <td>...</td>\n",
       "      <td>...</td>\n",
       "      <td>...</td>\n",
       "      <td>...</td>\n",
       "      <td>...</td>\n",
       "    </tr>\n",
       "    <tr>\n",
       "      <th>14994</th>\n",
       "      <td>26319</td>\n",
       "      <td>1.251094</td>\n",
       "      <td>-0.619682</td>\n",
       "      <td>1.421619</td>\n",
       "      <td>0.495537</td>\n",
       "      <td>-1.721549</td>\n",
       "      <td>-0.296483</td>\n",
       "      <td>-1.207151</td>\n",
       "      <td>0.135690</td>\n",
       "      <td>-0.181842</td>\n",
       "      <td>...</td>\n",
       "      <td>-0.114985</td>\n",
       "      <td>0.125850</td>\n",
       "      <td>0.014034</td>\n",
       "      <td>0.315620</td>\n",
       "      <td>0.218096</td>\n",
       "      <td>-0.249817</td>\n",
       "      <td>0.093594</td>\n",
       "      <td>0.047930</td>\n",
       "      <td>20.00</td>\n",
       "      <td>0</td>\n",
       "    </tr>\n",
       "    <tr>\n",
       "      <th>14995</th>\n",
       "      <td>26319</td>\n",
       "      <td>1.139049</td>\n",
       "      <td>0.078237</td>\n",
       "      <td>0.480345</td>\n",
       "      <td>0.471539</td>\n",
       "      <td>-0.271098</td>\n",
       "      <td>-0.195209</td>\n",
       "      <td>-0.108635</td>\n",
       "      <td>0.087148</td>\n",
       "      <td>-0.189344</td>\n",
       "      <td>...</td>\n",
       "      <td>-0.169569</td>\n",
       "      <td>-0.544291</td>\n",
       "      <td>0.139743</td>\n",
       "      <td>0.007989</td>\n",
       "      <td>0.101150</td>\n",
       "      <td>0.105698</td>\n",
       "      <td>-0.021173</td>\n",
       "      <td>0.008139</td>\n",
       "      <td>19.99</td>\n",
       "      <td>0</td>\n",
       "    </tr>\n",
       "    <tr>\n",
       "      <th>14996</th>\n",
       "      <td>26322</td>\n",
       "      <td>1.297527</td>\n",
       "      <td>0.290501</td>\n",
       "      <td>-0.157129</td>\n",
       "      <td>0.300362</td>\n",
       "      <td>0.275047</td>\n",
       "      <td>-0.075184</td>\n",
       "      <td>-0.028201</td>\n",
       "      <td>0.006493</td>\n",
       "      <td>-0.178580</td>\n",
       "      <td>...</td>\n",
       "      <td>-0.310852</td>\n",
       "      <td>-0.915030</td>\n",
       "      <td>-0.029196</td>\n",
       "      <td>-0.872330</td>\n",
       "      <td>0.349254</td>\n",
       "      <td>0.148786</td>\n",
       "      <td>-0.026891</td>\n",
       "      <td>0.009091</td>\n",
       "      <td>0.89</td>\n",
       "      <td>0</td>\n",
       "    </tr>\n",
       "    <tr>\n",
       "      <th>14997</th>\n",
       "      <td>26322</td>\n",
       "      <td>1.245674</td>\n",
       "      <td>0.166975</td>\n",
       "      <td>0.488306</td>\n",
       "      <td>0.635322</td>\n",
       "      <td>-0.562777</td>\n",
       "      <td>-1.011073</td>\n",
       "      <td>0.014953</td>\n",
       "      <td>-0.160211</td>\n",
       "      <td>0.170362</td>\n",
       "      <td>...</td>\n",
       "      <td>-0.262581</td>\n",
       "      <td>-0.816264</td>\n",
       "      <td>0.140304</td>\n",
       "      <td>0.357827</td>\n",
       "      <td>0.186423</td>\n",
       "      <td>0.096544</td>\n",
       "      <td>-0.035866</td>\n",
       "      <td>0.018495</td>\n",
       "      <td>8.99</td>\n",
       "      <td>0</td>\n",
       "    </tr>\n",
       "    <tr>\n",
       "      <th>14998</th>\n",
       "      <td>26323</td>\n",
       "      <td>1.297276</td>\n",
       "      <td>-0.694728</td>\n",
       "      <td>0.965737</td>\n",
       "      <td>-0.673381</td>\n",
       "      <td>-1.258920</td>\n",
       "      <td>-0.230760</td>\n",
       "      <td>-1.015842</td>\n",
       "      <td>0.016820</td>\n",
       "      <td>-0.544937</td>\n",
       "      <td>...</td>\n",
       "      <td>0.430698</td>\n",
       "      <td>1.238301</td>\n",
       "      <td>-0.099574</td>\n",
       "      <td>0.156464</td>\n",
       "      <td>0.379390</td>\n",
       "      <td>-0.025062</td>\n",
       "      <td>0.056696</td>\n",
       "      <td>0.027675</td>\n",
       "      <td>29.95</td>\n",
       "      <td>0</td>\n",
       "    </tr>\n",
       "  </tbody>\n",
       "</table>\n",
       "<p>14999 rows × 31 columns</p>\n",
       "</div>"
      ],
      "text/plain": [
       "        Time        V1        V2        V3        V4        V5        V6  \\\n",
       "0          0 -1.359807 -0.072781  2.536347  1.378155 -0.338321  0.462388   \n",
       "1          0  1.191857  0.266151  0.166480  0.448154  0.060018 -0.082361   \n",
       "2          1 -1.358354 -1.340163  1.773209  0.379780 -0.503198  1.800499   \n",
       "3          1 -0.966272 -0.185226  1.792993 -0.863291 -0.010309  1.247203   \n",
       "4          2 -1.158233  0.877737  1.548718  0.403034 -0.407193  0.095921   \n",
       "...      ...       ...       ...       ...       ...       ...       ...   \n",
       "14994  26319  1.251094 -0.619682  1.421619  0.495537 -1.721549 -0.296483   \n",
       "14995  26319  1.139049  0.078237  0.480345  0.471539 -0.271098 -0.195209   \n",
       "14996  26322  1.297527  0.290501 -0.157129  0.300362  0.275047 -0.075184   \n",
       "14997  26322  1.245674  0.166975  0.488306  0.635322 -0.562777 -1.011073   \n",
       "14998  26323  1.297276 -0.694728  0.965737 -0.673381 -1.258920 -0.230760   \n",
       "\n",
       "             V7        V8        V9  ...       V21       V22       V23  \\\n",
       "0      0.239599  0.098698  0.363787  ... -0.018307  0.277838 -0.110474   \n",
       "1     -0.078803  0.085102 -0.255425  ... -0.225775 -0.638672  0.101288   \n",
       "2      0.791461  0.247676 -1.514654  ...  0.247998  0.771679  0.909412   \n",
       "3      0.237609  0.377436 -1.387024  ... -0.108300  0.005274 -0.190321   \n",
       "4      0.592941 -0.270533  0.817739  ... -0.009431  0.798278 -0.137458   \n",
       "...         ...       ...       ...  ...       ...       ...       ...   \n",
       "14994 -1.207151  0.135690 -0.181842  ... -0.114985  0.125850  0.014034   \n",
       "14995 -0.108635  0.087148 -0.189344  ... -0.169569 -0.544291  0.139743   \n",
       "14996 -0.028201  0.006493 -0.178580  ... -0.310852 -0.915030 -0.029196   \n",
       "14997  0.014953 -0.160211  0.170362  ... -0.262581 -0.816264  0.140304   \n",
       "14998 -1.015842  0.016820 -0.544937  ...  0.430698  1.238301 -0.099574   \n",
       "\n",
       "            V24       V25       V26       V27       V28  Amount  Class  \n",
       "0      0.066928  0.128539 -0.189115  0.133558 -0.021053  149.62      0  \n",
       "1     -0.339846  0.167170  0.125895 -0.008983  0.014724    2.69      0  \n",
       "2     -0.689281 -0.327642 -0.139097 -0.055353 -0.059752  378.66      0  \n",
       "3     -1.175575  0.647376 -0.221929  0.062723  0.061458  123.50      0  \n",
       "4      0.141267 -0.206010  0.502292  0.219422  0.215153   69.99      0  \n",
       "...         ...       ...       ...       ...       ...     ...    ...  \n",
       "14994  0.315620  0.218096 -0.249817  0.093594  0.047930   20.00      0  \n",
       "14995  0.007989  0.101150  0.105698 -0.021173  0.008139   19.99      0  \n",
       "14996 -0.872330  0.349254  0.148786 -0.026891  0.009091    0.89      0  \n",
       "14997  0.357827  0.186423  0.096544 -0.035866  0.018495    8.99      0  \n",
       "14998  0.156464  0.379390 -0.025062  0.056696  0.027675   29.95      0  \n",
       "\n",
       "[14999 rows x 31 columns]"
      ]
     },
     "execution_count": 2,
     "metadata": {},
     "output_type": "execute_result"
    }
   ],
   "source": [
    "df = pd.read_csv('../dastasets/creditcard.csv')\n",
    "df"
   ]
  },
  {
   "cell_type": "markdown",
   "metadata": {},
   "source": [
    "## 1) Imbalanced classess detection"
   ]
  },
  {
   "cell_type": "code",
   "execution_count": 3,
   "metadata": {},
   "outputs": [
    {
     "data": {
      "text/plain": [
       "0    14938\n",
       "1       61\n",
       "Name: Class, dtype: int64"
      ]
     },
     "execution_count": 3,
     "metadata": {},
     "output_type": "execute_result"
    }
   ],
   "source": [
    "df['Class'].value_counts()"
   ]
  },
  {
   "cell_type": "code",
   "execution_count": 4,
   "metadata": {},
   "outputs": [
    {
     "data": {
      "text/plain": [
       "0    99.593306\n",
       "1     0.406694\n",
       "Name: Class, dtype: float64"
      ]
     },
     "execution_count": 4,
     "metadata": {},
     "output_type": "execute_result"
    }
   ],
   "source": [
    "df['Class'].value_counts() * 100 / len(df)"
   ]
  },
  {
   "cell_type": "code",
   "execution_count": 5,
   "metadata": {},
   "outputs": [
    {
     "data": {
      "text/plain": [
       "<AxesSubplot:xlabel='Class', ylabel='count'>"
      ]
     },
     "execution_count": 5,
     "metadata": {},
     "output_type": "execute_result"
    },
    {
     "data": {
      "image/png": "[encoded data removed]",
      "text/plain": [
       "<Figure size 720x720 with 1 Axes>"
      ]
     },
     "metadata": {},
     "output_type": "display_data"
    }
   ],
   "source": [
    "sns.countplot(x='Class', data=df, palette='viridis')"
   ]
  },
  {
   "cell_type": "markdown",
   "metadata": {},
   "source": [
    "## 2) Downsampling or Undersampling Majority Class"
   ]
  },
  {
   "cell_type": "code",
   "execution_count": 6,
   "metadata": {},
   "outputs": [],
   "source": [
    "from imblearn.under_sampling import RandomUnderSampler\n",
    "\n",
    "x = df.drop('Class', axis=1)\n",
    "y = df['Class']\n",
    "\n",
    "# setting up testing and training sets\n",
    "x_train, x_test, y_train, y_test = train_test_split(x, y, test_size=0.25, random_state=27)\n",
    "\n",
    "sm = RandomUnderSampler(random_state=27)\n",
    "x_train, y_train = sm.fit_sample(x_train, y_train)"
   ]
  },
  {
   "cell_type": "code",
   "execution_count": 7,
   "metadata": {},
   "outputs": [
    {
     "data": {
      "text/plain": [
       "1    42\n",
       "0    42\n",
       "Name: Class, dtype: int64"
      ]
     },
     "execution_count": 7,
     "metadata": {},
     "output_type": "execute_result"
    }
   ],
   "source": [
    "y_train.value_counts()"
   ]
  },
  {
   "cell_type": "markdown",
   "metadata": {},
   "source": [
    "## 3) Upsamling or Oversampling by generating Synthetic Samples with SMOTE"
   ]
  },
  {
   "cell_type": "markdown",
   "metadata": {},
   "source": [
    "<img src='https://miro.medium.com/max/1968/1*Uix18ehXJDGOX4Iu7vrdnQ.png'>\n",
    "\n",
    "SMOTE or Synthetic Minority Oversampling Technique is a popular algorithm to creates sythetic observations of the minority class.\n",
    "\n",
    "**to install `imbalanced-learn` use this command**\n",
    "\n",
    "`conda install -c conda-forge imbalanced-learn`"
   ]
  },
  {
   "cell_type": "code",
   "execution_count": 8,
   "metadata": {},
   "outputs": [],
   "source": [
    "from imblearn.over_sampling import SMOTE\n",
    "\n",
    "x = df.drop('Class', axis=1)\n",
    "y = df['Class']\n",
    "\n",
    "# setting up testing and training sets\n",
    "x_train, x_test, y_train, y_test = train_test_split(x, y, test_size=0.25, random_state=27)\n",
    "\n",
    "sm = SMOTE(random_state=27)\n",
    "x_train, y_train = sm.fit_sample(x_train, y_train)"
   ]
  },
  {
   "cell_type": "code",
   "execution_count": 9,
   "metadata": {},
   "outputs": [
    {
     "data": {
      "text/plain": [
       "1    11207\n",
       "0    11207\n",
       "Name: Class, dtype: int64"
      ]
     },
     "execution_count": 9,
     "metadata": {},
     "output_type": "execute_result"
    }
   ],
   "source": [
    "y_train.value_counts()"
   ]
  },
  {
   "cell_type": "markdown",
   "metadata": {},
   "source": [
    "# Great Work!"
   ]
  }
 ],
 "metadata": {
  "kernelspec": {
   "display_name": "Tensorflow GPU",
   "language": "python",
   "name": "tensorflow"
  },
  "language_info": {
   "codemirror_mode": {
    "name": "ipython",
    "version": 3
   },
   "file_extension": ".py",
   "mimetype": "text/x-python",
   "name": "python",
   "nbconvert_exporter": "python",
   "pygments_lexer": "ipython3",
   "version": "3.7.6"
  }
 },
 "nbformat": 4,
 "nbformat_minor": 4
}
