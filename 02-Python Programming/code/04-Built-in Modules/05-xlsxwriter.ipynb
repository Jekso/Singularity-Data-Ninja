{
 "cells": [
  {
   "cell_type": "code",
   "execution_count": 1,
   "metadata": {},
   "outputs": [],
   "source": [
    "import xlsxwriter\n",
    "\n",
    "workbook = xlsxwriter.Workbook('countries.xlsx')\n",
    "worksheet = workbook.add_worksheet()\n",
    "\n",
    "data = [\n",
    "    ('Egypt', 652090),\n",
    "    ('USA', 516151),\n",
    "    ('Japan', 412547)\n",
    "]\n",
    "\n",
    "\n",
    "row = 0\n",
    "col = 0\n",
    "\n",
    "for country, area in data:\n",
    "    worksheet.write(row, col, country)\n",
    "    worksheet.write(row, col + 1, area)\n",
    "    row += 1\n",
    "\n",
    "\n",
    "\n",
    "\n",
    "workbook.close()"
   ]
  }
 ],
 "metadata": {
  "kernelspec": {
   "display_name": "Tensorflow GPU",
   "language": "python",
   "name": "tensorflow"
  },
  "language_info": {
   "codemirror_mode": {
    "name": "ipython",
    "version": 3
   },
   "file_extension": ".py",
   "mimetype": "text/x-python",
   "name": "python",
   "nbconvert_exporter": "python",
   "pygments_lexer": "ipython3",
   "version": "3.7.6"
  }
 },
 "nbformat": 4,
 "nbformat_minor": 4
}
